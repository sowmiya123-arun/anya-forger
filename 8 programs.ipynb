{
 "cells": [
  {
   "cell_type": "code",
   "execution_count": 1,
   "id": "974ac822",
   "metadata": {},
   "outputs": [
    {
     "name": "stdout",
     "output_type": "stream",
     "text": [
      "Hello world\n"
     ]
    }
   ],
   "source": [
    "print(\"Hello world\")"
   ]
  },
  {
   "cell_type": "code",
   "execution_count": 6,
   "id": "1e233dcc",
   "metadata": {},
   "outputs": [
    {
     "name": "stdout",
     "output_type": "stream",
     "text": [
      "Enter the number:6\n",
      "Enter the number:7\n",
      "The sum is : 13\n"
     ]
    }
   ],
   "source": [
    "a=int(input(\"Enter the number:\"))\n",
    "b=int(input(\"Enter the number:\"))\n",
    "c=a+b\n",
    "print(\"The sum is :\",c)"
   ]
  },
  {
   "cell_type": "code",
   "execution_count": 8,
   "id": "995d90be",
   "metadata": {},
   "outputs": [
    {
     "name": "stdout",
     "output_type": "stream",
     "text": [
      "Before swapping\n",
      "12\n",
      "23\n",
      "After swapping\n",
      "23\n",
      "12\n"
     ]
    }
   ],
   "source": [
    "print(\"Before swapping\")\n",
    "a=12\n",
    "b=23\n",
    "print(a)\n",
    "print(b)\n",
    "print(\"After swapping\")\n",
    "a=a+b\n",
    "b=a-b\n",
    "a=a-b\n",
    "print(a)\n",
    "print(b)"
   ]
  },
  {
   "cell_type": "code",
   "execution_count": 13,
   "id": "ac95a906",
   "metadata": {},
   "outputs": [
    {
     "name": "stdout",
     "output_type": "stream",
     "text": [
      "Enter the kilometer:23.34\n",
      "mile is: 14.50279914\n"
     ]
    }
   ],
   "source": [
    "a=float(input(\"Enter the kilometer:\"))\n",
    "c = a*0.621371\n",
    "print(\"mile is:\",c)"
   ]
  },
  {
   "cell_type": "code",
   "execution_count": 36,
   "id": "d6332787",
   "metadata": {},
   "outputs": [
    {
     "name": "stdout",
     "output_type": "stream",
     "text": [
      "Enter any number-3\n",
      "The number -3  is negative\n"
     ]
    }
   ],
   "source": [
    "num=int(input(\"Enter any number\"))\n",
    "if num>0:\n",
    "    print(\"The number\", num ,\" is positive\")\n",
    "elif num==0:\n",
    "    print(\"The number\", num ,\" is zero\")\n",
    "else:\n",
    "    print(\"The number\" , num ,\" is negative\")\n",
    "        "
   ]
  },
  {
   "cell_type": "code",
   "execution_count": 39,
   "id": "1091aac9",
   "metadata": {},
   "outputs": [
    {
     "name": "stdout",
     "output_type": "stream",
     "text": [
      "Enter the year2004\n",
      "the year 2004 is leap year\n"
     ]
    }
   ],
   "source": [
    "year=int(input(\"Enter the year\"))\n",
    "if year%4==0:\n",
    "    print(\"the year\", year ,\"is leap year\")\n",
    "else:\n",
    "    print(\"the year\", year ,\"is not a leap year\")"
   ]
  },
  {
   "cell_type": "code",
   "execution_count": 54,
   "id": "cd691b70",
   "metadata": {},
   "outputs": [
    {
     "name": "stdout",
     "output_type": "stream",
     "text": [
      "Enter the 1st number:2\n",
      "Enter the last number:10\n",
      "2\n",
      "3\n",
      "5\n",
      "7\n"
     ]
    }
   ],
   "source": [
    "a=int(input(\"Enter the 1st number:\"))\n",
    "b=int(input(\"Enter the last number:\"))\n",
    "for num in range(a,b+1):\n",
    "    if num>1:\n",
    "        for i in range(2, num):\n",
    "            if(num % i) == 0:\n",
    "                break\n",
    "        else:\n",
    "            print(num)\n",
    "    "
   ]
  },
  {
   "cell_type": "code",
   "execution_count": null,
   "id": "9e4ad62d",
   "metadata": {},
   "outputs": [],
   "source": [
    "num=int(input(\"enter the range of numbers:\"))\n",
    "n1=0\n",
    "n2=1\n",
    "for i in range(2,num):\n",
    "    \n"
   ]
  },
  {
   "cell_type": "code",
   "execution_count": null,
   "id": "cdefee76",
   "metadata": {},
   "outputs": [],
   "source": []
  }
 ],
 "metadata": {
  "kernelspec": {
   "display_name": "Python 3 (ipykernel)",
   "language": "python",
   "name": "python3"
  },
  "language_info": {
   "codemirror_mode": {
    "name": "ipython",
    "version": 3
   },
   "file_extension": ".py",
   "mimetype": "text/x-python",
   "name": "python",
   "nbconvert_exporter": "python",
   "pygments_lexer": "ipython3",
   "version": "3.9.12"
  }
 },
 "nbformat": 4,
 "nbformat_minor": 5
}
